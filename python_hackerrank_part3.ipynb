{
  "nbformat": 4,
  "nbformat_minor": 0,
  "metadata": {
    "colab": {
      "provenance": [],
      "authorship_tag": "ABX9TyMJa4FDtCK9eD/v+W537SWk",
      "include_colab_link": true
    },
    "kernelspec": {
      "name": "python3",
      "display_name": "Python 3"
    },
    "language_info": {
      "name": "python"
    }
  },
  "cells": [
    {
      "cell_type": "markdown",
      "metadata": {
        "id": "view-in-github",
        "colab_type": "text"
      },
      "source": [
        "<a href=\"https://colab.research.google.com/github/CHOKKAKULA1999/python_hacker_rank-tasks/blob/main/python_hackerrank_part3.ipynb\" target=\"_parent\"><img src=\"https://colab.research.google.com/assets/colab-badge.svg\" alt=\"Open In Colab\"/></a>"
      ]
    },
    {
      "cell_type": "markdown",
      "source": [
        "Constraints\n",
        "\n",
        "Given number is a valid complex number\n",
        "\n",
        "Output Format\n",
        "\n",
        "Output two lines:\n",
        "The first line should contain the value of .\n",
        "The second line should contain the value of ."
      ],
      "metadata": {
        "id": "ccIG_51ByPXV"
      }
    },
    {
      "cell_type": "code",
      "execution_count": 1,
      "metadata": {
        "colab": {
          "base_uri": "https://localhost:8080/"
        },
        "id": "rfRmBTWOwQAS",
        "outputId": "5642caa5-9a95-45b4-b9b5-77c6ef57c336"
      },
      "outputs": [
        {
          "output_type": "stream",
          "name": "stdout",
          "text": [
            "1+2j\n",
            "2.23606797749979\n",
            "1.1071487177940904\n"
          ]
        }
      ],
      "source": [
        "\n",
        "from cmath import sqrt,phase\n",
        "c = complex(input())\n",
        "\n",
        "print(sqrt(pow(c.real,2)+pow(c.imag,2)).real)\n",
        "print(phase(complex(c.real,c.imag)))"
      ]
    },
    {
      "cell_type": "markdown",
      "source": [
        "You are given a positive integer .\n",
        "Your task is to print a palindromic triangle of size .\n",
        "\n",
        "For example, a palindromic triangle of size  is:"
      ],
      "metadata": {
        "id": "Y40d6BkMzTKG"
      }
    },
    {
      "cell_type": "code",
      "source": [
        "\n",
        "for n in range(1,int(input())+1):\n",
        "    print(((10**n-1)//9)**2)"
      ],
      "metadata": {
        "colab": {
          "base_uri": "https://localhost:8080/"
        },
        "id": "ee-b1NyMy8gw",
        "outputId": "2e450107-a795-462a-d76a-822020d0d5a1"
      },
      "execution_count": 2,
      "outputs": [
        {
          "output_type": "stream",
          "name": "stdout",
          "text": [
            "3\n",
            "1\n",
            "121\n",
            "12321\n"
          ]
        }
      ]
    },
    {
      "cell_type": "markdown",
      "source": [
        "One of the built-in functions of Python is divmod, which takes two arguments  and  and returns a tuple containing the quotient of  first and then the remainder .\n",
        "\n",
        "For example:"
      ],
      "metadata": {
        "id": "8aLXNtW2zVLF"
      }
    },
    {
      "cell_type": "code",
      "source": [
        "a = int(input())\n",
        "b = int(input())\n",
        "\n",
        "print(a//b)\n",
        "print(a%b)\n",
        "print(divmod(a,b))"
      ],
      "metadata": {
        "colab": {
          "base_uri": "https://localhost:8080/"
        },
        "id": "hQchE1am1Wy-",
        "outputId": "b493b0af-404e-48c2-acc0-2a802220d2ef"
      },
      "execution_count": 3,
      "outputs": [
        {
          "output_type": "stream",
          "name": "stdout",
          "text": [
            "17\n",
            "10\n",
            "1\n",
            "7\n",
            "(1, 7)\n"
          ]
        }
      ]
    },
    {
      "cell_type": "markdown",
      "source": [
        "So far, we have only heard of Python's powers. Now, we will witness them!\n",
        "\n",
        "Powers or exponents in Python can be calculated using the built-in power function. Call the power function  as shown below:"
      ],
      "metadata": {
        "id": "4I5oQy-72P0P"
      }
    },
    {
      "cell_type": "code",
      "source": [
        "a = int(input())\n",
        "b = int(input())\n",
        "m = int(input())\n",
        "\n",
        "print(pow(a,b))\n",
        "\n",
        "print(pow(a,b,m))"
      ],
      "metadata": {
        "colab": {
          "base_uri": "https://localhost:8080/"
        },
        "id": "-GrTq89J1Zjn",
        "outputId": "69c7cb4f-6b0b-415e-abf1-7f91193ecfd9"
      },
      "execution_count": 4,
      "outputs": [
        {
          "output_type": "stream",
          "name": "stdout",
          "text": [
            "3\n",
            "4\n",
            "5\n",
            "81\n",
            "1\n"
          ]
        }
      ]
    },
    {
      "cell_type": "markdown",
      "source": [
        "Integers in Python can be as big as the bytes in your machine's memory. There is no limit in size as there is:  (c++ int) or  (C++ long long int).\n",
        "\n",
        "As we know, the result of  grows really fast with increasing .\n",
        "\n",
        "Let's do some calculations on very large integers.\n",
        "\n",
        "Task\n",
        "Read four numbers, , , , and , and print the result of ."
      ],
      "metadata": {
        "id": "tIqmfi7y2o9P"
      }
    },
    {
      "cell_type": "code",
      "source": [
        "A = int(input())\n",
        "B = int(input())\n",
        "C = int(input())\n",
        "D = int(input())\n",
        "\n",
        "print((A**B)+(C**D))"
      ],
      "metadata": {
        "colab": {
          "base_uri": "https://localhost:8080/"
        },
        "id": "tSWZcQre2Tq6",
        "outputId": "2e8bfaa7-57da-4392-a831-071a1c11905b"
      },
      "execution_count": 5,
      "outputs": [
        {
          "output_type": "stream",
          "name": "stdout",
          "text": [
            "9\n",
            "29\n",
            "7\n",
            "27\n",
            "4710194409608608369201743232\n"
          ]
        }
      ]
    },
    {
      "cell_type": "markdown",
      "source": [
        " is a right triangle,  at .\n",
        "Therefore, .\n",
        "\n",
        "Point  is the midpoint of hypotenuse .\n",
        "\n",
        "You are given the lengths  and .\n",
        "Your task is to find  (angle , as shown in the figure) in degrees.\n",
        "\n",
        "Input Format\n",
        "\n",
        "The first line contains the length of side .\n",
        "The second line contains the length of side ."
      ],
      "metadata": {
        "id": "uV1NbT-43-Uh"
      }
    },
    {
      "cell_type": "code",
      "source": [
        "# Enter your code here. Read input from STDIN. Print output to STDOUT\n",
        "\n",
        "# importing the module\n",
        "import math\n",
        "\n",
        "# taking the input from user\n",
        "ab = float(input())\n",
        "bc = float(input())\n",
        "\n",
        "# finding the distance \n",
        "ac = math.sqrt((ab*ab)+(bc*bc))\n",
        "bm = ac / 2.0\n",
        "mc = bm\n",
        "\n",
        "# equalizing the sides \n",
        "b = mc\n",
        "c = bm\n",
        "a = bc\n",
        "\n",
        "# where b=c\n",
        "# finding the angle in radian\n",
        "angel_b_radian = math.acos(a / (2*b))\n",
        "\n",
        "# converting the radian to degree\n",
        "angel_b_degree = int(round((180 * angel_b_radian) / math.pi))\n",
        "\n",
        "# printing with degree\n",
        "print(angel_b_degree,'\\u00B0',sep='')"
      ],
      "metadata": {
        "colab": {
          "base_uri": "https://localhost:8080/"
        },
        "id": "RG0dvTea2tzN",
        "outputId": "83b4bd6f-8534-4904-ca19-b2c98ee2353f"
      },
      "execution_count": 6,
      "outputs": [
        {
          "output_type": "stream",
          "name": "stdout",
          "text": [
            "10\n",
            "10\n",
            "45°\n"
          ]
        }
      ]
    },
    {
      "cell_type": "code",
      "source": [],
      "metadata": {
        "id": "KHrYUDQK4ITC"
      },
      "execution_count": null,
      "outputs": []
    }
  ]
}