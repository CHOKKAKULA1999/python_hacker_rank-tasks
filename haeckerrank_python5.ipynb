{
  "nbformat": 4,
  "nbformat_minor": 0,
  "metadata": {
    "colab": {
      "provenance": [],
      "authorship_tag": "ABX9TyO4UYSmwuOcGMZ1o8t7x0/B",
      "include_colab_link": true
    },
    "kernelspec": {
      "name": "python3",
      "display_name": "Python 3"
    },
    "language_info": {
      "name": "python"
    }
  },
  "cells": [
    {
      "cell_type": "markdown",
      "metadata": {
        "id": "view-in-github",
        "colab_type": "text"
      },
      "source": [
        "<a href=\"https://colab.research.google.com/github/CHOKKAKULA1999/python_hacker_rank-tasks/blob/main/haeckerrank_python5.ipynb\" target=\"_parent\"><img src=\"https://colab.research.google.com/assets/colab-badge.svg\" alt=\"Open In Colab\"/></a>"
      ]
    },
    {
      "cell_type": "markdown",
      "source": [
        "Check Tutorial tab to know how to to solve.\n",
        "\n",
        "You are given a string .\n",
        "Your task is to verify that  is a floating point number.\n",
        "\n",
        "In this task, a valid float number must satisfy all of the following requirements:\n",
        "\n",
        " Number can start with +, - or . symbol.\n",
        "For example:\n",
        "✔\n",
        "+4.50\n",
        "✔\n",
        "-1.0\n",
        "✔\n",
        ".5\n",
        "✔\n",
        "-.7\n",
        "✔\n",
        "+.4\n",
        "✖\n",
        " -+4.5"
      ],
      "metadata": {
        "id": "zGElDAHXKW5H"
      }
    },
    {
      "cell_type": "code",
      "execution_count": null,
      "metadata": {
        "colab": {
          "base_uri": "https://localhost:8080/"
        },
        "id": "f4rNT037KQpi",
        "outputId": "a3954540-939c-4630-87f5-f9e5836a9c24"
      },
      "outputs": [
        {
          "output_type": "stream",
          "name": "stdout",
          "text": [
            "4\n",
            "4.0O0\n",
            "False\n",
            "-1.00\n",
            "True\n",
            "+4.54\n",
            "True\n",
            "SomeRandomStuff\n",
            "False\n"
          ]
        }
      ],
      "source": [
        "import re\n",
        "\n",
        "class Main():\n",
        "    def __init__(self):\n",
        "        self.n = int(input())\n",
        "        \n",
        "        for i in range(self.n):\n",
        "            self.s = input()\n",
        "            print(bool(re.match(r'^[-+]?[0-9]*\\.[0-9]+$', self.s)))\n",
        "                    \n",
        "if __name__ == '__main__':\n",
        "    obj = Main()"
      ]
    },
    {
      "cell_type": "markdown",
      "source": [
        "You are given a string  consisting only of digits 0-9, commas ,, and dots .\n",
        "\n",
        "Your task is to complete the regex_pattern defined below, which will be used to re.split() all of the , and . symbols in .\n",
        "\n",
        "It’s guaranteed that every comma and every dot in  is preceeded and followed by a digit."
      ],
      "metadata": {
        "id": "jwK2BJCRLJDJ"
      }
    },
    {
      "cell_type": "code",
      "source": [
        "regex_pattern = r\"[.,]+\"\t# Do not delete 'r'.\n",
        "\n",
        "import re\n",
        "print(\"\\n\".join(re.split(regex_pattern, input())))"
      ],
      "metadata": {
        "colab": {
          "base_uri": "https://localhost:8080/"
        },
        "id": "4Encew0oKcZW",
        "outputId": "d33ab7a1-38f0-4d37-f1a7-da0fd210d7c2"
      },
      "execution_count": null,
      "outputs": [
        {
          "output_type": "stream",
          "name": "stdout",
          "text": [
            "100,000,000.000\n",
            "100\n",
            "000\n",
            "000\n",
            "000\n"
          ]
        }
      ]
    },
    {
      "cell_type": "markdown",
      "source": [
        "Print the first occurrence of the repeating character. If there are no repeating characters, "
      ],
      "metadata": {
        "id": "ZlPr6QTuLfPo"
      }
    },
    {
      "cell_type": "code",
      "source": [
        "from re import search\n",
        "\n",
        "regex = search(r\"([0-9a-zA-Z])\\1+\", input())\n",
        "\n",
        "print(regex.group(1)) if regex is not None else print(\"-1\")"
      ],
      "metadata": {
        "colab": {
          "base_uri": "https://localhost:8080/"
        },
        "id": "5jxh2KpILL6N",
        "outputId": "0a55122d-6b4d-455e-8a5b-eb659b36c2a0"
      },
      "execution_count": null,
      "outputs": [
        {
          "output_type": "stream",
          "name": "stdout",
          "text": [
            "..12345678910111213141516171820212223\n",
            "1\n"
          ]
        }
      ]
    },
    {
      "cell_type": "markdown",
      "source": [
        "The expression re.findall() returns all the non-overlapping matches of patterns in a string as a list of strings.\n",
        "Code"
      ],
      "metadata": {
        "id": "YPuMvR8-LwE6"
      }
    },
    {
      "cell_type": "code",
      "source": [
        "import re\n",
        "\n",
        "result = re.findall(r'(?<=[^aeiou])[aeiou]{2,}(?=[^aeiou])', input(), flags=re.I)\n",
        "print(\"\\n\".join(result) if result else \"-1\")"
      ],
      "metadata": {
        "colab": {
          "base_uri": "https://localhost:8080/"
        },
        "id": "I6GxDZpLLerp",
        "outputId": "a2354cee-f4f0-496d-92ac-bc551e4f88fd"
      },
      "execution_count": null,
      "outputs": [
        {
          "output_type": "stream",
          "name": "stdout",
          "text": [
            "rabcdeefgyYhFjkIoomnpOeorteeeeet\n",
            "ee\n",
            "Ioo\n",
            "Oeo\n",
            "eeeee\n"
          ]
        }
      ]
    },
    {
      "cell_type": "markdown",
      "source": [
        "start() & end()\n",
        "These expressions return the indices of the start and end of the substring matched by the group.\n",
        "\n",
        "Code"
      ],
      "metadata": {
        "id": "0LoFB8Y6MR55"
      }
    },
    {
      "cell_type": "code",
      "source": [
        "# Re.start() & Re.end() in Python - Hacker Rank Solution\n",
        "# Python 3\n",
        "# Enter your code here. Read input from STDIN. Print output to STDOUT\n",
        "# Re.start() & Re.end() in Python - Hacker Rank Solution START\n",
        "import re\n",
        "\n",
        "S, k = input(), input()\n",
        "matches = re.finditer(r'(?=(' + k + '))', S)\n",
        "\n",
        "anymatch = False\n",
        "for match in matches:\n",
        "    anymatch = True\n",
        "    print((match.start(1), match.end(1) - 1))\n",
        "\n",
        "if anymatch == False:\n",
        "    print((-1, -1))\n",
        "# Re.start() & Re.end() in Python - Hacker Rank Solution END"
      ],
      "metadata": {
        "colab": {
          "base_uri": "https://localhost:8080/"
        },
        "id": "N-ixdADvL5Ay",
        "outputId": "aafbb5f1-e6be-4b34-8946-da1a616ba8e0"
      },
      "execution_count": null,
      "outputs": [
        {
          "output_type": "stream",
          "name": "stdout",
          "text": [
            "aaadaa\n",
            "aa\n",
            "(0, 1)\n",
            "(1, 2)\n",
            "(4, 5)\n"
          ]
        }
      ]
    },
    {
      "cell_type": "markdown",
      "source": [
        "he re.sub() tool (sub stands for substitution) evaluates a pattern and, for each valid match, it calls a method (or lambda).\n",
        "The method is called for all matches and can be used to modify strings in different ways.\n",
        "The re.sub() method returns the modified string as an output.\n",
        "\n",
        "Learn more about .\n",
        "\n",
        "Transformation of Strings"
      ],
      "metadata": {
        "id": "amXyGagyMq5i"
      }
    },
    {
      "cell_type": "code",
      "source": [
        "# Regex Substitution in Python - Hacker Rank Solution START\n",
        "import re\n",
        "\n",
        "def change(match):\n",
        "    if match.group(1) == '&&':\n",
        "        return 'and'\n",
        "    else:\n",
        "        return 'or'\n",
        "\n",
        "for _ in range(int(input())):\n",
        "    print(re.sub(r\"(?<= )(\\|\\||&&)(?= )\", change,input()))"
      ],
      "metadata": {
        "id": "-0D4YMo5M9zR"
      },
      "execution_count": null,
      "outputs": []
    },
    {
      "cell_type": "markdown",
      "source": [
        "You are given a string, and you have to validate whether it's a valid Roman numeral. If it is valid, print True. Otherwise, print False. Try to create a regular expression for a valid Roman numeral.\n",
        "\n",
        "Input Format\n",
        "\n",
        "A single line of input containing a string of Roman characters.\n",
        "\n",
        "Output Format\n",
        "\n",
        "Output a single line containing True or False according to the instructions above."
      ],
      "metadata": {
        "id": "0faA-53yNd6b"
      }
    },
    {
      "cell_type": "code",
      "source": [
        "# Validating Roman Numerals in Python - Hacker Rank Solution\n",
        "# Python 3\n",
        "# Validating Roman Numerals in Python - Hacker Rank Solution START\n",
        "thousand = 'M{0,3}'\n",
        "hundred = '(C[MD]|D?C{0,3})'\n",
        "ten = '(X[CL]|L?X{0,3})'\n",
        "digit = '(I[VX]|V?I{0,3})'\n",
        "regex_pattern = r\"%s%s%s%s$\" % (thousand, hundred, ten, digit)\t\n",
        "# Do not delete 'r'.\n",
        "# Validating Roman Numerals in Python - Hacker Rank Solution END\n",
        "\n",
        "import re\n",
        "print(str(bool(re.match(regex_pattern, input()))))"
      ],
      "metadata": {
        "colab": {
          "base_uri": "https://localhost:8080/"
        },
        "id": "E6tOpZA-Mujf",
        "outputId": "27acd525-8afc-46fe-d6b0-31932ba98819"
      },
      "execution_count": null,
      "outputs": [
        {
          "output_type": "stream",
          "name": "stdout",
          "text": [
            "CDXXI\n",
            "True\n"
          ]
        }
      ]
    },
    {
      "cell_type": "markdown",
      "source": [
        "Let's dive into the interesting topic of regular expressions! You are given some input, and you are required to check whether they are valid mobile numbers.\n",
        "\n",
        "A valid mobile number is a ten digit number starting with a  or ."
      ],
      "metadata": {
        "id": "Ndb1vuUgN5UR"
      }
    },
    {
      "cell_type": "code",
      "source": [
        "import re\n",
        "\n",
        "N = int(input())\n",
        "\n",
        "for i in range(N):\n",
        "    number = input()\n",
        "    if(len(number)==10 and number.isdigit()):\n",
        "        output = re.findall(r\"^[789]\\d{9}$\",number)\n",
        "        if(len(output)==1):\n",
        "            print(\"YES\")\n",
        "        else:\n",
        "            print(\"NO\")\n",
        "    else:\n",
        "        print(\"NO\")\n",
        "# Validating phone number in Python - Hacker Rank Solution END "
      ],
      "metadata": {
        "id": "dn-zhkCqOjbM"
      },
      "execution_count": null,
      "outputs": []
    },
    {
      "cell_type": "markdown",
      "source": [
        "A valid email address meets the following criteria:\n",
        "\n",
        "It's composed of a username, domain name, and extension assembled in this format: username@domain.extension\n",
        "The username starts with an English alphabetical character, and any subsequent characters consist of one or more of the following: alphanumeric characters, -,., and _."
      ],
      "metadata": {
        "id": "sc0XlePdO51N"
      }
    },
    {
      "cell_type": "code",
      "source": [
        "import re\n",
        "\n",
        "N = int(input())\n",
        "\n",
        "for i in range(N):\n",
        "    name, email = input().split()\n",
        "    pattern=\"<[a-z][a-zA-Z0-9\\-\\.\\_]+@[a-zA-Z]+\\.[a-zA-Z]{1,3}>\"\n",
        "    if bool(re.match(pattern, email)):\n",
        "        print(name,email)\n",
        "# Validating and Parsing Email Addresses in Python - Hacker Rank Solution END"
      ],
      "metadata": {
        "colab": {
          "base_uri": "https://localhost:8080/"
        },
        "id": "E3IEBcSDOBad",
        "outputId": "667f956d-a77e-4571-da15-56d2e7ecb546"
      },
      "execution_count": null,
      "outputs": [
        {
          "name": "stdout",
          "output_type": "stream",
          "text": [
            "2\n",
            "DEXTER <dexter@hotmail.com>\n",
            "DEXTER <dexter@hotmail.com>\n",
            "VIRUS <virus!@variable.:p>\n"
          ]
        }
      ]
    },
    {
      "cell_type": "markdown",
      "source": [
        "CSS colors are defined using a hexadecimal (HEX) notation for the combination of Red, Green, and Blue color values (RGB).\n",
        "\n",
        "Specifications of HEX Color Code\n",
        "\n",
        "■ It must start with a '#' symbol.\n",
        "■ It can have  or  digits.\n",
        "■ Each digit is in the range of  to . ( and ).\n",
        "■  letters can be lower case. ( and  are also valid digits).\n",
        "\n",
        "Examples"
      ],
      "metadata": {
        "id": "03OtXLF-Zycc"
      }
    },
    {
      "cell_type": "code",
      "source": [
        "import re\n",
        "\n",
        "T = int(input())\n",
        "in_css = False\n",
        "for _ in range(T):\n",
        "    s = input()\n",
        "    if '{' in s:\n",
        "        in_css = True\n",
        "    elif '}' in s:\n",
        "        in_css = False\n",
        "    elif in_css:\n",
        "        for color in re.findall('#[0-9a-fA-F]{3,6}', s):\n",
        "            print(color)"
      ],
      "metadata": {
        "id": "ZAbNEH82Z4Vu"
      },
      "execution_count": null,
      "outputs": []
    },
    {
      "cell_type": "markdown",
      "source": [
        "HTML\n",
        "Hypertext Markup Language is a standard markup language used for creating World Wide Web pages.\n",
        "\n",
        "Parsing\n",
        "Parsing is the process of syntactic analysis of a string of symbols. It involves resolving a string into its component parts and describing their syntactic roles.\n",
        "\n",
        "HTMLParser\n",
        "An HTMLParser instance is fed HTML data and calls handler methods when start tags, end tags, text, comments, and other markup elements are encountered.\n",
        "\n",
        "Example (based on the original Python documentation):"
      ],
      "metadata": {
        "id": "m0iUgRopa5IS"
      }
    },
    {
      "cell_type": "code",
      "source": [
        "from html.parser import HTMLParser\n",
        "\n",
        "class MyHTMLParser(HTMLParser):\n",
        "    def handle_starttag(self, tag, attrs):\n",
        "        print ('Start :', tag)\n",
        "        for ele in attrs:\n",
        "            print ('->', ele[0], '>', ele[1])\n",
        "\n",
        "    def handle_endtag(self, tag):\n",
        "        print ('End   :', tag)\n",
        "\n",
        "    def handle_startendtag(self, tag, attrs):\n",
        "        print ('Empty :', tag)\n",
        "        for ele in attrs:\n",
        "            print ('->', ele[0], '>', ele[1])\n",
        "\n",
        "parser = MyHTMLParser()\n",
        "for _ in range(int(input())):\n",
        "    parser.feed(input())"
      ],
      "metadata": {
        "colab": {
          "base_uri": "https://localhost:8080/"
        },
        "id": "R4FuSpYTa1K1",
        "outputId": "10274f40-7669-46fd-958b-381bf8da0d37"
      },
      "execution_count": null,
      "outputs": [
        {
          "output_type": "stream",
          "name": "stdout",
          "text": [
            "2\n",
            "<html><head><title>HTML Parser - I</title></head>\n",
            "Start : html\n",
            "Start : head\n",
            "Start : title\n",
            "End   : title\n",
            "End   : head\n",
            "<body data-modal-target class='1'><h1>HackerRank</h1><br /></body></html>\n",
            "Start : body\n",
            "-> data-modal-target > None\n",
            "-> class > 1\n",
            "Start : h1\n",
            "End   : h1\n",
            "Empty : br\n",
            "End   : body\n",
            "End   : html\n"
          ]
        }
      ]
    },
    {
      "cell_type": "markdown",
      "source": [
        "This method is called when a comment is encountered (e.g. <!--comment-->).\n",
        "The data argument is the content inside the comment tag:\n",
        "\n",
        "from HTMLParser import HTMLParser\n",
        "\n",
        "class MyHTMLParser(HTMLParser):\n",
        "    def handle_comment(self, data):\n",
        "          print \"Comment  :\", data"
      ],
      "metadata": {
        "id": "BPBChYpWbd_z"
      }
    },
    {
      "cell_type": "code",
      "source": [
        "from html.parser import HTMLParser\n",
        "\n",
        "class MyHTMLParser(HTMLParser):\n",
        "\n",
        "    # HTML Parser - Part 2 in Python - Hacker Rank Solution START\n",
        "    def handle_comment(self, data):\n",
        "        if (len(data.split('\\n')) != 1):\n",
        "            print(\">>> Multi-line Comment\")\n",
        "        else:\n",
        "            print(\">>> Single-line Comment\")\n",
        "        print(data.replace(\"\\r\", \"\\n\"))\n",
        "    def handle_data(self, data):\n",
        "        if data.strip():\n",
        "            print(\">>> Data\")\n",
        "            print(data)\n",
        "    # HTML Parser - Part 2 in Python - Hacker Rank Solution END\n",
        "  \n",
        "html = \"\"       \n",
        "for i in range(int(input())):\n",
        "    html += input().rstrip()\n",
        "    html += '\\n'\n",
        "    \n",
        "parser = MyHTMLParser()\n",
        "parser.feed(html)\n",
        "parser.close()"
      ],
      "metadata": {
        "colab": {
          "base_uri": "https://localhost:8080/"
        },
        "id": "z--jr6NSa_zK",
        "outputId": "33deb64a-3c27-4bb9-fb9a-b9a6ffe6cb8a"
      },
      "execution_count": null,
      "outputs": [
        {
          "output_type": "stream",
          "name": "stdout",
          "text": [
            "4\n",
            "<!--[if IE 9]>IE9-specific content\n",
            "<![endif]-->\n",
            "<div> Welcome to HackerRank</div>\n",
            "<div> Welcome to HackerRank</div>\n",
            ">>> Multi-line Comment\n",
            "[if IE 9]>IE9-specific content\n",
            "<![endif]\n",
            ">>> Data\n",
            " Welcome to HackerRank\n",
            ">>> Data\n",
            " Welcome to HackerRank\n"
          ]
        }
      ]
    },
    {
      "cell_type": "markdown",
      "source": [
        "You are given an HTML code snippet of  lines.\n",
        "Your task is to detect and print all the HTML tags, attributes and attribute values."
      ],
      "metadata": {
        "id": "oyt8xTYrcXsV"
      }
    },
    {
      "cell_type": "code",
      "source": [
        "from html.parser import HTMLParser\n",
        "class MyHTMLParser(HTMLParser):\n",
        "    def handle_starttag(self, tag, attrs):\n",
        "        print(tag)\n",
        "        [print('-> {} > {}'.format(*attr)) for attr in attrs]\n",
        "        \n",
        "html = '\\n'.join([input() for _ in range(int(input()))])\n",
        "parser = MyHTMLParser()\n",
        "parser.feed(html)\n",
        "parser.close()"
      ],
      "metadata": {
        "colab": {
          "base_uri": "https://localhost:8080/"
        },
        "id": "ngrFhZBDbmb4",
        "outputId": "96829227-f6d3-4399-fe9d-94d064fbbcb0"
      },
      "execution_count": null,
      "outputs": [
        {
          "output_type": "stream",
          "name": "stdout",
          "text": [
            "9\n",
            "<head>\n",
            "<title>HTML</title>\n",
            "</head>\n",
            "<object type=\"application/x-flash\" \n",
            " data=\"your-file.swf\" \n",
            "  width=\"0\" height=\"0\">\n",
            "<!-- <param name=\"movie\" value=\"your-file.swf\" /> -->\n",
            "<param name=\"quality\" value=\"high\"/>\n",
            "</object>\n",
            "head\n",
            "title\n",
            "object\n",
            "-> type > application/x-flash\n",
            "-> data > your-file.swf\n",
            "-> width > 0\n",
            "-> height > 0\n",
            "param\n",
            "-> name > quality\n",
            "-> value > high\n"
          ]
        }
      ]
    },
    {
      "cell_type": "markdown",
      "source": [
        "ABCXYZ company has up to  employees.\n",
        "The company decides to create a unique identification number (UID) for each of its employees.\n",
        "The company has assigned you the task of validating all the randomly generated UIDs.\n",
        "\n",
        "A valid UID must follow the rules below:\n",
        "\n",
        "It must contain at least  uppercase English alphabet characters.\n",
        "It must contain at least  digits ( - ).\n",
        "It should only contain alphanumeric characters ( - ,  -  &  - ).\n",
        "No character should repeat.\n",
        "There must be exactly  characters in a valid UID."
      ],
      "metadata": {
        "id": "uFCD7Z-UdK8-"
      }
    },
    {
      "cell_type": "code",
      "source": [
        "import re\n",
        "\n",
        "for i in range(int(input())):\n",
        "    N = input().strip()\n",
        "    if N.isalnum() and len(N) == 10:\n",
        "        if bool(re.search(r'(.*[A-Z]){2,}',N)) and bool(re.search(r'(.*[0-9]){3,}',N)):\n",
        "            if re.search(r'.*(.).*\\1+.*',N):\n",
        "                print('Invalid')\n",
        "            else:\n",
        "                print('Valid')\n",
        "        else:\n",
        "            print('Invalid')\n",
        "    else:\n",
        "        print('Invalid')"
      ],
      "metadata": {
        "id": "iEHB8EpCcgqo",
        "colab": {
          "base_uri": "https://localhost:8080/"
        },
        "outputId": "a0ed5119-b31c-44b0-e4b1-b46faa64c0df"
      },
      "execution_count": 5,
      "outputs": [
        {
          "output_type": "stream",
          "name": "stdout",
          "text": [
            "2\n",
            "B1CD102354\n",
            "Invalid\n",
            "B1CDEF2354\n",
            "Valid\n"
          ]
        }
      ]
    },
    {
      "cell_type": "markdown",
      "source": [
        "You and Fredrick are good friends. Yesterday, Fredrick received  credit cards from ABCD Bank. He wants to verify whether his credit card numbers are valid or not. You happen to be great at regex so he is asking for your help!\n",
        "\n",
        "A valid credit card from ABCD Bank has the following characteristics:\n",
        "\n"
      ],
      "metadata": {
        "id": "QjHD8_Cldo0-"
      }
    },
    {
      "cell_type": "code",
      "source": [
        "import re\n",
        "\n",
        "# compile the patterns\n",
        "pattern = re.compile(\n",
        "    r'^'\n",
        "    r'(?!.*(\\d)(-?\\1){3})'\n",
        "    r'[456]\\d{3}'\n",
        "    r'(?:-?\\d{4}){3}'\n",
        "    r'$')\n",
        "\n",
        "# using for loop to the input from user \n",
        "for _ in range(int(input().strip())):\n",
        "    \n",
        "    #using pattern to search if the number is valid\n",
        "    print('Valid' if pattern.search(input().strip()) else 'Invalid')"
      ],
      "metadata": {
        "colab": {
          "base_uri": "https://localhost:8080/"
        },
        "id": "YzKQ1wzadpyu",
        "outputId": "9bec918e-e154-490a-c6d9-6257fae0901d"
      },
      "execution_count": 6,
      "outputs": [
        {
          "output_type": "stream",
          "name": "stdout",
          "text": [
            "1\n",
            "4123456789123456\n",
            "Valid\n"
          ]
        }
      ]
    },
    {
      "cell_type": "markdown",
      "source": [
        "A valid postal code  have to fullfil both below requirements:\n",
        "\n",
        " must be a number in the range from  to  inclusive.\n",
        " must not contain more than one alternating repetitive digit pair.\n",
        "Alternating repetitive digits are digits which repeat immediately after the next digit. In other words, an alternating repetitive digit pair is formed by two equal digits that have just a single digit between them."
      ],
      "metadata": {
        "id": "WkL9Met7etG_"
      }
    },
    {
      "cell_type": "code",
      "source": [
        "regex_integer_in_range = r\"^[1-9][\\d]{5}$\"    # Do not delete 'r'.\n",
        "regex_alternating_repetitive_digit_pair = r\"(\\d)(?=\\d\\1)\"    # Do not delete 'r'.\n",
        "# Validating Postal Codes in Python - Hacker Rank Solution END\n",
        "\n",
        "import re\n",
        "P = input()\n",
        "\n",
        "print (bool(re.match(regex_integer_in_range, P)) \n",
        "and len(re.findall(regex_alternating_repetitive_digit_pair, P)) < 2)"
      ],
      "metadata": {
        "colab": {
          "base_uri": "https://localhost:8080/"
        },
        "id": "fvCk0bpQd4wy",
        "outputId": "15c56d6c-0b10-48e5-a8dc-9385ea5dca7b"
      },
      "execution_count": 7,
      "outputs": [
        {
          "output_type": "stream",
          "name": "stdout",
          "text": [
            "110000\n",
            "False\n"
          ]
        }
      ]
    },
    {
      "cell_type": "markdown",
      "source": [
        "Neo has a complex matrix script. The matrix script is a  X  grid of strings. It consists of alphanumeric characters, spaces and symbols (!,@,#,$,%,&).\n"
      ],
      "metadata": {
        "id": "J3Lo3UKzfbcl"
      }
    },
    {
      "cell_type": "code",
      "source": [
        "import math\n",
        "import os\n",
        "import random\n",
        "import re\n",
        "import sys\n",
        "\n",
        "\n",
        "first_multiple_input = input().rstrip().split()\n",
        "\n",
        "n = int(first_multiple_input[0])\n",
        "m = int(first_multiple_input[1])\n",
        "\n",
        "matrix = []\n",
        "\n",
        "for _ in range(n):\n",
        "    matrix_item = input()\n",
        "    matrix.append(matrix_item)\n",
        "\n",
        "# start   \n",
        "matrix = list(zip(*matrix))\n",
        "\n",
        "sample = str()\n",
        "\n",
        "for words in matrix:\n",
        "    for char in words:\n",
        "        sample += char\n",
        "       \n",
        "print(re.sub(r'(?<=\\w)([^\\w\\d]+)(?=\\w)', ' ', sample)) \n",
        "\n",
        "\n",
        "first_multiple_input = input().rstrip().split()\n",
        "\n",
        "n = int(first_multiple_input[0])\n",
        "\n",
        "m = int(first_multiple_input[1])\n",
        "\n",
        "matrix = []\n",
        "\n",
        "for _ in range(n):\n",
        "    matrix_item = input()\n",
        "    matrix.append(matrix_item)\n"
      ],
      "metadata": {
        "id": "tqHKCnlJfcaJ"
      },
      "execution_count": null,
      "outputs": []
    }
  ]
}