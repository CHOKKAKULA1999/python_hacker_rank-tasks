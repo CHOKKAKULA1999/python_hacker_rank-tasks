{
 "cells": [
  {
   "cell_type": "markdown",
   "id": "4fb2281a",
   "metadata": {},
   "source": [
    "# 1)  Given an array nums. We define a running sum of an array as runningSum[i] = sum(nums[0]…nums[i]).\n",
    "\n",
    "Return the running sum of nums.\n",
    "\n",
    " "
   ]
  },
  {
   "cell_type": "code",
   "execution_count": 1,
   "id": "8bc77101",
   "metadata": {},
   "outputs": [
    {
     "data": {
      "text/plain": [
       "[1, 3, 6, 10, 15]"
      ]
     },
     "execution_count": 1,
     "metadata": {},
     "output_type": "execute_result"
    }
   ],
   "source": [
    "class solution():\n",
    "    def twonums(self ,nums):\n",
    "        total_list = []\n",
    "        sum_1 = 0\n",
    "        \n",
    "        for element in range(len(nums)):\n",
    "            sum_1 = sum_1 + nums[element]\n",
    "            total_list.append(sum_1)\n",
    "        return total_list\n",
    "obj = solution()\n",
    "nums = [ 1,2,3,4,5]\n",
    "\n",
    "obj.twonums(nums)"
   ]
  },
  {
   "cell_type": "markdown",
   "id": "c029dc6e",
   "metadata": {},
   "source": [
    "# 2)  Given the array nums consisting of 2n elements in the form [x1,x2,...,xn,y1,y2,...,yn].\n",
    "\n",
    "Return the array in the form [x1,y1,x2,y2,...,xn,yn]."
   ]
  },
  {
   "cell_type": "code",
   "execution_count": 2,
   "id": "78908655",
   "metadata": {},
   "outputs": [
    {
     "data": {
      "text/plain": [
       "[1, 5, 2, 6, 3, 7, 4, 8]"
      ]
     },
     "execution_count": 2,
     "metadata": {},
     "output_type": "execute_result"
    }
   ],
   "source": [
    "\n",
    "def shuffle(Li,  n):\n",
    "    act = []\n",
    "    for a in range(n):\n",
    "        act.append(List[a])\n",
    "        act.append(List[a+n])\n",
    "    return act\n",
    "\n",
    "List = [1,2,3,4,5,6,7,8]\n",
    "n = 4\n",
    "\n",
    "shuffle(List , n)"
   ]
  },
  {
   "cell_type": "markdown",
   "id": "76cc2482",
   "metadata": {},
   "source": [
    "# 3)There are n kids with candies. You are given an integer array candies, where each candies[i] represents the number of candies the ith kid has, and an integer extraCandies, denoting the number of extra candies that you have.\n",
    "\n",
    "Return a boolean array result of length n, where result[i] is true if, after giving the ith kid all the extraCandies, they will have the greatest number of candies among all the kids, or false otherwise.\n",
    "\n",
    "Note that multiple kids can have the greatest number of candies."
   ]
  },
  {
   "cell_type": "code",
   "execution_count": 3,
   "id": "612f7bfc",
   "metadata": {},
   "outputs": [
    {
     "data": {
      "text/plain": [
       "['True', 'True', 'True', 'False', 'True']"
      ]
     },
     "execution_count": 3,
     "metadata": {},
     "output_type": "execute_result"
    }
   ],
   "source": [
    "#Input: candies = [2,3,5,1,3], extraCandies = 3\n",
    "\n",
    "def check(candids , extracandid):\n",
    "    output_list = []\n",
    "    max_candid = max(candids)\n",
    "    \n",
    "    for i in range(len(candids)):\n",
    "        if candids[i] + extracandid >= max_candid:\n",
    "            output_list.append(\"True\")\n",
    "        else:\n",
    "            output_list.append('False')\n",
    "    return output_list\n",
    "\n",
    "candids = [2,3,5,1,3]\n",
    "extracandid = 3\n",
    "\n",
    "check(candids , extracandid)"
   ]
  },
  {
   "cell_type": "code",
   "execution_count": null,
   "id": "08c355c5",
   "metadata": {},
   "outputs": [],
   "source": []
  }
 ],
 "metadata": {
  "kernelspec": {
   "display_name": "Python 3 (ipykernel)",
   "language": "python",
   "name": "python3"
  },
  "language_info": {
   "codemirror_mode": {
    "name": "ipython",
    "version": 3
   },
   "file_extension": ".py",
   "mimetype": "text/x-python",
   "name": "python",
   "nbconvert_exporter": "python",
   "pygments_lexer": "ipython3",
   "version": "3.9.12"
  }
 },
 "nbformat": 4,
 "nbformat_minor": 5
}
