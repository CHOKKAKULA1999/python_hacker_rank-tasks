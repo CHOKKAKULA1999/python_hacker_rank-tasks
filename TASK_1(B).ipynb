{
 "cells": [
  {
   "cell_type": "markdown",
   "id": "4f54b8b9",
   "metadata": {},
   "source": [
    "# 1)QUESTION TO PRINT HELLO WORLD \n"
   ]
  },
  {
   "cell_type": "code",
   "execution_count": 1,
   "id": "69783695",
   "metadata": {},
   "outputs": [
    {
     "name": "stdout",
     "output_type": "stream",
     "text": [
      "Hello, World!\n"
     ]
    }
   ],
   "source": [
    "container_1 = \"Hello, World!\"\n",
    "print(container_1)"
   ]
  },
  {
   "cell_type": "code",
   "execution_count": null,
   "id": "8b635170",
   "metadata": {},
   "outputs": [],
   "source": []
  },
  {
   "cell_type": "markdown",
   "id": "337c204d",
   "metadata": {},
   "source": [
    "# 2) perform below mentioned task \n",
    "Given an integer, , perform the following conditional actions:\n",
    "\n",
    "If  is odd, print Weird\n",
    "\n",
    "If  is even and in the inclusive range of  to , print Not Weird\n",
    "\n",
    "If  is even and in the inclusive range of  to , print Weird\n",
    "\n",
    "If  is even and greater than , print Not Weird "
   ]
  },
  {
   "cell_type": "code",
   "execution_count": 2,
   "id": "34cdb487",
   "metadata": {},
   "outputs": [
    {
     "name": "stdout",
     "output_type": "stream",
     "text": [
      "3\n",
      "Weird\n"
     ]
    }
   ],
   "source": [
    "if __name__ == '__main__':\n",
    "    n = int(input().strip())\n",
    "    \n",
    "    if n % 2 != 0:\n",
    "        print(\"Weird\")\n",
    "    elif n % 2 == 0 and 2 <= n  <= 5 :\n",
    "        print(\"Not Weird\")\n",
    "    elif n % 2 == 0  and 6 <= n <= 20 :\n",
    "        print(\"Weird\")\n",
    "    elif n % 2 == 0 and n >20 :\n",
    "        print(\"Not Weird\")\n",
    "    else:\n",
    "        pass    "
   ]
  },
  {
   "cell_type": "code",
   "execution_count": null,
   "id": "87e3d4e2",
   "metadata": {},
   "outputs": [],
   "source": []
  },
  {
   "cell_type": "markdown",
   "id": "68ff5ee3",
   "metadata": {},
   "source": [
    "# 3) question to perform below mentioned task \n",
    "The provided code stub reads two integers from STDIN,  and . Add code to print three lines where:\n",
    "\n",
    "The first line contains the sum of the two numbers.\n",
    "\n",
    "The second line contains the difference of the two numbers (first - second).\n",
    "\n",
    "The third line contains the product of the two numbers."
   ]
  },
  {
   "cell_type": "code",
   "execution_count": 9,
   "id": "1172f709",
   "metadata": {},
   "outputs": [
    {
     "name": "stdout",
     "output_type": "stream",
     "text": [
      "enter first number:10\n",
      "enter second number:20\n",
      "addition of 10 ,20 is :   30\n",
      "subtraction of 10 ,20 is :   -10\n",
      "multiplication  of 10 ,20 is :   200\n"
     ]
    }
   ],
   "source": [
    "if __name__ == '__main__':\n",
    "    a = int(input(\"enter first number:\").strip())\n",
    "    \n",
    "    b = int(input(\"enter second number:\").strip())\n",
    "    \n",
    "    print(f\"addition of {a} ,{b} is :  \",      a+b)\n",
    "    \n",
    "    print(f\"subtraction of {a} ,{b} is :  \" ,   a-b)\n",
    "    \n",
    "    print(f\"multiplication  of {a} ,{b} is :  \" , a*b)"
   ]
  },
  {
   "cell_type": "code",
   "execution_count": null,
   "id": "a3286fb4",
   "metadata": {},
   "outputs": [],
   "source": []
  },
  {
   "cell_type": "markdown",
   "id": "73305e64",
   "metadata": {},
   "source": [
    "# 4)  The provided code stub reads two integers,  and , from STDIN.\n",
    "\n",
    "Add logic to print two lines. \n",
    "The first line should contain the result of integer division,  // . \n",
    "\n",
    "The second line should contain the result of float division,  / .\n",
    "\n",
    "No rounding or formatting is necessary."
   ]
  },
  {
   "cell_type": "code",
   "execution_count": 10,
   "id": "8087c733",
   "metadata": {},
   "outputs": [
    {
     "name": "stdout",
     "output_type": "stream",
     "text": [
      "4\n",
      "2\n",
      "2\n",
      "2.0\n"
     ]
    }
   ],
   "source": [
    "if __name__ == '__main__':\n",
    "    a = int(input())\n",
    "    b = int(input())\n",
    "    print(a//b) #floor division \n",
    "    print(a/b) #normal division\n"
   ]
  },
  {
   "cell_type": "code",
   "execution_count": null,
   "id": "3b6c7efe",
   "metadata": {},
   "outputs": [],
   "source": []
  },
  {
   "cell_type": "markdown",
   "id": "00a47983",
   "metadata": {},
   "source": [
    "# 5)  Task\n",
    "The provided code stub reads and integer, , from STDIN. For all non-negative integers , print  i**2"
   ]
  },
  {
   "cell_type": "code",
   "execution_count": 12,
   "id": "167e499e",
   "metadata": {},
   "outputs": [
    {
     "name": "stdout",
     "output_type": "stream",
     "text": [
      "__main__\n",
      "0\n",
      "1\n",
      "4\n"
     ]
    }
   ],
   "source": [
    "if __name__ == \"__main__\":\n",
    "    print(__name__)\n",
    "    for a in range(n):\n",
    "        print(a**2)"
   ]
  },
  {
   "cell_type": "code",
   "execution_count": null,
   "id": "1106bc49",
   "metadata": {},
   "outputs": [],
   "source": []
  },
  {
   "cell_type": "markdown",
   "id": "068107e4",
   "metadata": {},
   "source": [
    "# 6) print the consecutives values for the given input "
   ]
  },
  {
   "cell_type": "code",
   "execution_count": 13,
   "id": "e4b5430d",
   "metadata": {},
   "outputs": [
    {
     "name": "stdout",
     "output_type": "stream",
     "text": [
      "4\n",
      "1234"
     ]
    }
   ],
   "source": [
    "if __name__ == \"__main__\":\n",
    "    n = int(input())\n",
    "    \n",
    "    for a in range(1, n+1):\n",
    "        print(a , end=\"\")"
   ]
  },
  {
   "cell_type": "code",
   "execution_count": null,
   "id": "5a6d4194",
   "metadata": {},
   "outputs": [],
   "source": []
  }
 ],
 "metadata": {
  "kernelspec": {
   "display_name": "Python 3 (ipykernel)",
   "language": "python",
   "name": "python3"
  },
  "language_info": {
   "codemirror_mode": {
    "name": "ipython",
    "version": 3
   },
   "file_extension": ".py",
   "mimetype": "text/x-python",
   "name": "python",
   "nbconvert_exporter": "python",
   "pygments_lexer": "ipython3",
   "version": "3.9.12"
  }
 },
 "nbformat": 4,
 "nbformat_minor": 5
}
