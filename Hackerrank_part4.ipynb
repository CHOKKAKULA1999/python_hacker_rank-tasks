{
  "nbformat": 4,
  "nbformat_minor": 0,
  "metadata": {
    "colab": {
      "provenance": [],
      "authorship_tag": "ABX9TyNfv++iV4ALCCvbCXwRvmnU",
      "include_colab_link": true
    },
    "kernelspec": {
      "name": "python3",
      "display_name": "Python 3"
    },
    "language_info": {
      "name": "python"
    }
  },
  "cells": [
    {
      "cell_type": "markdown",
      "metadata": {
        "id": "view-in-github",
        "colab_type": "text"
      },
      "source": [
        "<a href=\"https://colab.research.google.com/github/CHOKKAKULA1999/python_hacker_rank-tasks/blob/main/Hackerrank_part4.ipynb\" target=\"_parent\"><img src=\"https://colab.research.google.com/assets/colab-badge.svg\" alt=\"Open In Colab\"/></a>"
      ]
    },
    {
      "cell_type": "markdown",
      "source": [
        "You are given a string and your task is to swap cases. In other words, convert all lowercase letters to uppercase letters and vice versa.\n",
        "\n",
        "For Example:\n",
        "\n",
        "Www.HackerRank.com → wWW.hACKERrANK.COM\n",
        "Pythonist 2 → pYTHONIST 2  \n",
        "Function Description\n",
        "\n",
        "Complete the swap_case function in the editor below.\n",
        "\n",
        "swap_case has the following parameters:\n",
        "\n",
        "string s: the string to modify\n",
        "Returns\n",
        "\n",
        "string: the modified string\n",
        "Input Format\n",
        "\n",
        "A single line containing a string .\n",
        "\n",
        "Constraints"
      ],
      "metadata": {
        "id": "S-Wccxav57Ee"
      }
    },
    {
      "cell_type": "code",
      "execution_count": 1,
      "metadata": {
        "colab": {
          "base_uri": "https://localhost:8080/"
        },
        "id": "yDoa1Bmt5tRP",
        "outputId": "d96c2ca9-7e2a-4204-dbfd-e1ec4f90218e"
      },
      "outputs": [
        {
          "output_type": "stream",
          "name": "stdout",
          "text": [
            "Www.HackerRank.com\n",
            "wWW.hACKERrANK.COM\n"
          ]
        }
      ],
      "source": [
        "def swap_case(s):\n",
        "\n",
        "    string = \"\"\n",
        "\n",
        "    for i in s:\n",
        "\n",
        "        if i.isupper() == True:\n",
        "\n",
        "            string+=(i.lower())\n",
        "\n",
        "        else:\n",
        "\n",
        "            string+=(i.upper())\n",
        "\n",
        "    return string\n",
        "\n",
        "\n",
        "if __name__ == '__main__':\n",
        "\n",
        "    s = input()\n",
        "\n",
        "    result = swap_case(s)\n",
        "\n",
        "    print(result)"
      ]
    },
    {
      "cell_type": "markdown",
      "source": [
        "In Python, a string can be split on a delimiter."
      ],
      "metadata": {
        "id": "w85AleWJ6r8E"
      }
    },
    {
      "cell_type": "code",
      "source": [
        "def split_and_join(line):\n",
        "    # write your code here\n",
        "    a = line.split(\" \")\n",
        "    a = \"-\".join(a)\n",
        "    return a\n",
        "\n",
        "\n",
        "if __name__ == '__main__':\n",
        "    line = input()\n",
        "    result = split_and_join(line)\n",
        "    print(result)"
      ],
      "metadata": {
        "colab": {
          "base_uri": "https://localhost:8080/"
        },
        "id": "7BYbmA0Y5-oK",
        "outputId": "282bbcae-d5d9-465c-8a69-b9adefade746"
      },
      "execution_count": 2,
      "outputs": [
        {
          "output_type": "stream",
          "name": "stdout",
          "text": [
            "this is a string \n",
            "this-is-a-string-\n"
          ]
        }
      ]
    },
    {
      "cell_type": "markdown",
      "source": [
        "You are given the firstname and lastname of a person on two different lines. Your task is to read them and print the following:\n",
        "\n",
        "Hello firstname lastname! You just delved into python.\n",
        "\n",
        "Function Description\n",
        "\n",
        "Complete the print_full_name function in the editor below.\n",
        "\n",
        "print_full_name has the following parameters:\n",
        "\n",
        "string first: the first name\n",
        "string last: the last name\n",
        "Prints\n",
        "\n",
        "string: 'Hello  ! You just delved into python' where  and  are replaced with  and .\n",
        "Input Format\n",
        "\n",
        "The first line contains the first name, and the second line contains the last name.\n",
        "\n",
        "Constraints\n",
        "\n",
        "The length of the first and last names are each ≤ .\n",
        "\n",
        "Sample Input 0\n",
        "\n",
        "Ross\n",
        "Taylor\n",
        "Sample Output 0\n",
        "\n",
        "Hello Ross Taylor! You just delved into python.\n",
        "Explanation 0\n",
        "\n",
        "The input read by the program is stored as a string data type. A string is a collection of characters.\n",
        "\n",
        "Language\n",
        "Python 3\n",
        "More\n",
        "12345678910111213\n",
        "#\n",
        "# Complete the 'print_full_name' function below.\n",
        "#\n",
        "# The function is expected to return a STRING.\n",
        "# The function accepts following parameters:\n",
        "#  1. STRING first\n",
        "#  2. STRING last\n",
        "#\n",
        "\n",
        "def print_full_name(first, last):\n",
        "\n",
        "Line: 1 Col: 1\n",
        "\n",
        "Test against custom input\n",
        "BlogScoringEnvironmentFAQAbout Us"
      ],
      "metadata": {
        "id": "XykXk0HB7WdW"
      }
    },
    {
      "cell_type": "code",
      "source": [
        "def print_full_name(first, last):\n",
        "    \n",
        "    print(f\"Hello {first} {last}! You just delved into python.\") \n",
        "\n",
        "if __name__ == '__main__':\n",
        "    first_name = input()\n",
        "    last_name = input()\n",
        "    print_full_name(first_name, last_name)"
      ],
      "metadata": {
        "colab": {
          "base_uri": "https://localhost:8080/"
        },
        "id": "Sva1LQYr7VLY",
        "outputId": "0f4a76da-819a-4cd3-a21a-5f249b6ed691"
      },
      "execution_count": 5,
      "outputs": [
        {
          "output_type": "stream",
          "name": "stdout",
          "text": [
            "naga\n",
            "undar\n",
            "Hello naga undar! You just delved into python.\n"
          ]
        }
      ]
    },
    {
      "cell_type": "markdown",
      "source": [
        "We have seen that lists are mutable (they can be changed), and tuples are immutable (they cannot be changed).\n",
        "\n",
        "Let's try to understand this with an example.\n",
        "\n",
        "You are given an immutable string, and you want to make changes to it.\n",
        "\n",
        "Example\n",
        "\n",
        ">>> string = \"abracadabra\"\n",
        "You can access an index by:\n",
        "\n",
        ">>> print string[5]"
      ],
      "metadata": {
        "id": "AeW4GiSS73Ku"
      }
    },
    {
      "cell_type": "code",
      "source": [
        "def mutate_string(string, position, character):\n",
        "    lst = list(string)\n",
        "    lst[position] = character\n",
        "    string = \"\".join(lst)\n",
        "    return string\n",
        "\n",
        "if __name__ == '__main__':\n",
        "    s = input()\n",
        "    i, c = input().split()\n",
        "    s_new = mutate_string(s, int(i), c)\n",
        "    print(s_new)"
      ],
      "metadata": {
        "colab": {
          "base_uri": "https://localhost:8080/"
        },
        "id": "m-IpWNH97aWz",
        "outputId": "427c4910-b2fc-4a30-84ec-e92df0335955"
      },
      "execution_count": 7,
      "outputs": [
        {
          "output_type": "stream",
          "name": "stdout",
          "text": [
            "abracadabra\n",
            "5 k\n",
            "abrackdabra\n"
          ]
        }
      ]
    },
    {
      "cell_type": "markdown",
      "source": [
        "Python has built-in string validation methods for basic data. It can check if a string is composed of alphabetical characters, alphanumeric characters, digits, etc.\n",
        "\n",
        "str.isalnum()\n",
        "This method checks if all the characters of a string are alphanumeric (a-z, A-Z and 0-9)."
      ],
      "metadata": {
        "id": "6h_HS8Fh8xZX"
      }
    },
    {
      "cell_type": "code",
      "source": [
        "if __name__ == '__main__':\n",
        "    s = input()\n",
        "    print(any(i.isalnum() for i in s) )\n",
        "    print(any(i.isalpha() for i in s) )\n",
        "    print(any(i.isdigit() for i in s) )\n",
        "    print(any(i.islower() for i in s) )\n",
        "    print(any(i.isupper() for i in s) )"
      ],
      "metadata": {
        "colab": {
          "base_uri": "https://localhost:8080/"
        },
        "id": "aChROeMo7_J9",
        "outputId": "0c4339cc-b4ac-4981-b131-f9acd1a9a212"
      },
      "execution_count": 8,
      "outputs": [
        {
          "output_type": "stream",
          "name": "stdout",
          "text": [
            "qA2\n",
            "True\n",
            "True\n",
            "True\n",
            "True\n",
            "True\n"
          ]
        }
      ]
    },
    {
      "cell_type": "markdown",
      "source": [
        "In Python, a string of text can be aligned left, right and center.\n",
        "\n",
        ".ljust(width)\n",
        "\n",
        "This method returns a left aligned string of length width.\n",
        "\n",
        ">>> width = 20\n",
        ">>> print 'HackerRank'.ljust(width,'-')\n",
        "HackerRank----------  \n",
        ".center(width)\n",
        "\n",
        "This method returns a centered string of length width.\n",
        "\n",
        ">>> width = 20\n",
        ">>> print 'HackerRank'.center(width,'-')\n",
        "-----HackerRank-----\n",
        ".rjust(width)\n",
        "\n",
        "This method returns a right aligned string of length width.\n",
        "\n",
        ">>> width = 20"
      ],
      "metadata": {
        "id": "8vhsJtkQ9Q4U"
      }
    },
    {
      "cell_type": "code",
      "source": [
        "#Replace all ______ with rjust, ljust or center. \n",
        "\n",
        "thickness = int(input()) #This must be an odd number\n",
        "c = 'H'\n",
        "\n",
        "#Top Cone\n",
        "for i in range(thickness):\n",
        "    print((c*i).rjust(thickness-1)+c+(c*i).ljust(thickness-1))\n",
        "\n",
        "#Top Pillars\n",
        "for i in range(thickness+1):\n",
        "    print((c*thickness).center(thickness*2)+(c*thickness).center(thickness*6))\n",
        "\n",
        "#Middle Belt\n",
        "for i in range((thickness+1)//2):\n",
        "    print((c*thickness*5).center(thickness*6))    \n",
        "\n",
        "#Bottom Pillars\n",
        "for i in range(thickness+1):\n",
        "    print((c*thickness).center(thickness*2)+(c*thickness).center(thickness*6))    \n",
        "\n",
        "#Bottom Cone\n",
        "for i in range(thickness):\n",
        "    print(((c*(thickness-i-1)).rjust(thickness)+c+(c*(thickness-i-1)).ljust(thickness)).rjust(thickness*6))"
      ],
      "metadata": {
        "colab": {
          "base_uri": "https://localhost:8080/"
        },
        "id": "sNBxeK1_9E8i",
        "outputId": "44aecfa3-0189-4ae6-8790-89a35a2d1e76"
      },
      "execution_count": 9,
      "outputs": [
        {
          "output_type": "stream",
          "name": "stdout",
          "text": [
            "5\n",
            "    H    \n",
            "   HHH   \n",
            "  HHHHH  \n",
            " HHHHHHH \n",
            "HHHHHHHHH\n",
            "  HHHHH               HHHHH             \n",
            "  HHHHH               HHHHH             \n",
            "  HHHHH               HHHHH             \n",
            "  HHHHH               HHHHH             \n",
            "  HHHHH               HHHHH             \n",
            "  HHHHH               HHHHH             \n",
            "  HHHHHHHHHHHHHHHHHHHHHHHHH   \n",
            "  HHHHHHHHHHHHHHHHHHHHHHHHH   \n",
            "  HHHHHHHHHHHHHHHHHHHHHHHHH   \n",
            "  HHHHH               HHHHH             \n",
            "  HHHHH               HHHHH             \n",
            "  HHHHH               HHHHH             \n",
            "  HHHHH               HHHHH             \n",
            "  HHHHH               HHHHH             \n",
            "  HHHHH               HHHHH             \n",
            "                    HHHHHHHHH \n",
            "                     HHHHHHH  \n",
            "                      HHHHH   \n",
            "                       HHH    \n",
            "                        H     \n"
          ]
        }
      ]
    },
    {
      "cell_type": "markdown",
      "source": [
        "You are given a string  and width .\n",
        "Your task is to wrap the string into a paragraph of width .\n",
        "\n",
        "Function Description\n",
        "\n",
        "Complete the wrap function in the editor below.\n",
        "\n",
        "wrap has the following parameters:\n",
        "\n",
        "string string: a long string\n",
        "int max_width: the width to wrap to\n",
        "Returns\n",
        "\n",
        "string: a single string with newline characters ('\\n') where the breaks should be\n",
        "Input Format\n",
        "\n",
        "The first line contains a string, .\n",
        "The second line contains the width, .\n",
        "\n",
        "Constraints\n",
        "\n",
        "\n"
      ],
      "metadata": {
        "id": "SWN4qNpK90T-"
      }
    },
    {
      "cell_type": "code",
      "source": [
        "import textwrap\n",
        "\n",
        "def wrap(string, max_width):\n",
        "    for i in range(0,len(string)+1,max_width):\n",
        "        result = string[i:i+max_width]\n",
        "        if len(result) == max_width:\n",
        "            print(result)\n",
        "        else:\n",
        "            return(result)\n",
        "if __name__ == '__main__':\n",
        "    string, max_width = input(), int(input())\n",
        "    result = wrap(string, max_width)\n",
        "    print(result)"
      ],
      "metadata": {
        "colab": {
          "base_uri": "https://localhost:8080/"
        },
        "id": "g6AUfWNl9h-G",
        "outputId": "58fba502-b56f-407b-9444-a0282a6c058d"
      },
      "execution_count": 10,
      "outputs": [
        {
          "output_type": "stream",
          "name": "stdout",
          "text": [
            "ABCDEFGHIJKLIMNOQRSTUVWXYZ\n",
            "4\n",
            "ABCD\n",
            "EFGH\n",
            "IJKL\n",
            "IMNO\n",
            "QRST\n",
            "UVWX\n",
            "YZ\n"
          ]
        }
      ]
    },
    {
      "cell_type": "markdown",
      "source": [
        "Mr. Vincent works in a door mat manufacturing company. One day, he designed a new door mat with the following specifications:\n",
        "\n",
        "Mat size must be X. ( is an odd natural number, and  is  times .)\n",
        "The design should have 'WELCOME' written in the center.\n",
        "The design pattern should only use |, . and - characters.\n",
        "Sample Designs"
      ],
      "metadata": {
        "id": "9m4vL9W9-cQE"
      }
    },
    {
      "cell_type": "code",
      "source": [
        "# Designer Door Mat in Python - HackerRank Solution\n",
        "# Enter your code here. Read input from STDIN. Print output to STDOUT\n",
        "# Designer Door Mat in Python - HackerRank Solution START\n",
        "N, M = map(int, input().split())\n",
        "for i in range(1, N, 2):\n",
        "    print(str('.|.' * i).center(M, '-'))\n",
        "print('WELCOME'.center(M, '-'))\n",
        "for i in range(N-2, -1, -2):\n",
        "    print(str('.|.' * i).center(M, '-'))\n",
        "# Designer Door Mat in Python - HackerRank Solution END"
      ],
      "metadata": {
        "colab": {
          "base_uri": "https://localhost:8080/"
        },
        "id": "a0INb_pZ96sz",
        "outputId": "24e3579a-5957-4425-ae88-39f583a165bb"
      },
      "execution_count": 11,
      "outputs": [
        {
          "output_type": "stream",
          "name": "stdout",
          "text": [
            "9 27\n",
            "------------.|.------------\n",
            "---------.|..|..|.---------\n",
            "------.|..|..|..|..|.------\n",
            "---.|..|..|..|..|..|..|.---\n",
            "----------WELCOME----------\n",
            "---.|..|..|..|..|..|..|.---\n",
            "------.|..|..|..|..|.------\n",
            "---------.|..|..|.---------\n",
            "------------.|.------------\n"
          ]
        }
      ]
    },
    {
      "cell_type": "markdown",
      "source": [
        "Given an integer, , print the following values for each integer  from  to :\n",
        "\n",
        "Decimal\n",
        "Octal\n",
        "Hexadecimal (capitalized)\n",
        "Binary\n",
        "Function Description\n",
        "\n",
        "Complete the print_formatted function in the editor below.\n",
        "\n",
        "print_formatted has the following parameters:\n",
        "\n",
        "int number: the maximum value to print"
      ],
      "metadata": {
        "id": "C0Y6zUHN-yio"
      }
    },
    {
      "cell_type": "code",
      "source": [
        "def print_formatted(number):\n",
        "    pad = number.bit_length()\n",
        "    for i in range(1,number+1):\n",
        "        print(str(i).rjust(pad),oct(i).split(\"o\")[1].rjust(pad),hex(i).split(\"x\")[1].upper().rjust(pad),bin(i).split(\"b\")[1].rjust(pad))\n",
        "if __name__ == '__main__':\n",
        "    n = int(input())\n",
        "    print_formatted(n)"
      ],
      "metadata": {
        "colab": {
          "base_uri": "https://localhost:8080/"
        },
        "id": "CDERbg6j-g7B",
        "outputId": "094cdf14-0f01-44ae-d6bd-ac01f95dc0ff"
      },
      "execution_count": 12,
      "outputs": [
        {
          "output_type": "stream",
          "name": "stdout",
          "text": [
            "17\n",
            "    1     1     1     1\n",
            "    2     2     2    10\n",
            "    3     3     3    11\n",
            "    4     4     4   100\n",
            "    5     5     5   101\n",
            "    6     6     6   110\n",
            "    7     7     7   111\n",
            "    8    10     8  1000\n",
            "    9    11     9  1001\n",
            "   10    12     A  1010\n",
            "   11    13     B  1011\n",
            "   12    14     C  1100\n",
            "   13    15     D  1101\n",
            "   14    16     E  1110\n",
            "   15    17     F  1111\n",
            "   16    20    10 10000\n",
            "   17    21    11 10001\n"
          ]
        }
      ]
    },
    {
      "cell_type": "markdown",
      "source": [
        "You are given an integer, . Your task is to print an alphabet rangoli of size . (Rangoli is a form of Indian folk art based on creation of patterns.)\n",
        "\n",
        "Different sizes of alphabet rangoli are shown bel"
      ],
      "metadata": {
        "id": "DJkY6rd6_WPD"
      }
    },
    {
      "cell_type": "code",
      "source": [
        "from string import ascii_lowercase as alc\n",
        "def print_rangoli(size):\n",
        "    #exception case, normal method would give '-a-'\n",
        "    if size == 1: \n",
        "        print(alc[0])\n",
        "        return\n",
        "    \n",
        "    alphaSlice = [*alc[:size]]\n",
        "    rangoli = []\n",
        "    \n",
        "    #iterate through alphabet, get progressive smaller chunks, insert to list\n",
        "    for i in range(size):\n",
        "        # isolate center letter for easy padding\n",
        "        center = alphaSlice[i]\n",
        "        halfLine = '-'.join([y for y in alphaSlice[i+1:]])\n",
        "        line = halfLine[::-1]+f'-{center}-'+halfLine\n",
        "        rangoli.append(line)\n",
        "        \n",
        "    # every line will have the same width as the longest line\n",
        "    padding = len(rangoli[0])\n",
        "    #duplicate and mirror list\n",
        "    mirrorRangoli = [*rangoli[::-1],*rangoli[1:]]\n",
        "    \n",
        "    for line in mirrorRangoli:\n",
        "        print(line.center(padding, '-'))\n",
        "if __name__ == '__main__':\n",
        "    n = int(input())\n",
        "    print_rangoli(n)"
      ],
      "metadata": {
        "colab": {
          "base_uri": "https://localhost:8080/"
        },
        "id": "t9CThuiL_Ank",
        "outputId": "010e3de8-12ce-4323-e485-d2cf8e73aefe"
      },
      "execution_count": 13,
      "outputs": [
        {
          "output_type": "stream",
          "name": "stdout",
          "text": [
            "5\n",
            "--------e--------\n",
            "------e-d-e------\n",
            "----e-d-c-d-e----\n",
            "--e-d-c-b-c-d-e--\n",
            "e-d-c-b-a-b-c-d-e\n",
            "--e-d-c-b-c-d-e--\n",
            "----e-d-c-d-e----\n",
            "------e-d-e------\n",
            "--------e--------\n"
          ]
        }
      ]
    },
    {
      "cell_type": "markdown",
      "source": [
        "You are asked to ensure that the first and last names of people begin with a capital letter in their passports. For example, alison heck should be capitalised correctly as Alison Heck.\n",
        "\n",
        "\n",
        "Given a full name, your task is to capitalize the name appropriately.\n",
        "\n",
        "Input Format\n",
        "\n",
        "A single line of input containing the full name, .\n",
        "\n",
        "Constraints\n",
        "\n",
        "The string consists of alphanumeric characters and spaces.\n",
        "Note: in a word only the first character is capitalized. Example 12abc when capitalized remains 12abc.\n",
        "\n",
        "Output Format"
      ],
      "metadata": {
        "id": "COz7NH3SICcU"
      }
    },
    {
      "cell_type": "code",
      "source": [
        "def solve(s):\n",
        "    for i in s.split():\n",
        "        s = s.replace(i,i.capitalize())\n",
        "    return s\n",
        "\n",
        "if __name__ == '__main__':\n",
        "    fptr = open(os.environ['OUTPUT_PATH'], 'w'\n",
        "    s = input()\n",
        "    result = solve(s)\n",
        "    fptr.write(result + '\\n')\n",
        "    fptr.close()"
      ],
      "metadata": {
        "id": "fAP59R-2IPeG"
      },
      "execution_count": null,
      "outputs": []
    },
    {
      "cell_type": "markdown",
      "source": [
        "Kevin and Stuart want to play the 'The Minion Game'.\n",
        "\n",
        "Game Rules\n",
        "\n",
        "Both players are given the same string, .\n",
        "Both players have to make substrings using the letters of the string .\n",
        "Stuart has to make words starting with consonants.\n",
        "Kevin has to make words starting with vowels.\n",
        "The game ends when both players have made all possible substrings.\n",
        "\n",
        "Scoring\n",
        "A player gets +1 point for each occurrence of the substring in the string .\n",
        "\n",
        "For Example:\n",
        "String  = BANANA\n",
        "Kevin's vowel beginning word = ANA\n",
        "Here, ANA occurs twice in BANANA. Hence, Kevin will get 2 Points."
      ],
      "metadata": {
        "id": "V5SDxlxiIcG_"
      }
    },
    {
      "cell_type": "code",
      "source": [
        "def minion_game(string):\n",
        "    s=len(string)\n",
        "    vowel = 0\n",
        "    consonant = 0\n",
        "     \n",
        "    for i in range(s):\n",
        "        if string[i] in 'AEIOU':\n",
        "           vowel+=(s-i)\n",
        "        else:\n",
        "           consonant+=(s-i)\n",
        "                \n",
        "    if vowel < consonant:\n",
        "        print('Stuart ' + str(consonant))\n",
        "    elif vowel > consonant:\n",
        "        print('Kevin ' + str(vowel))\n",
        "    else:\n",
        "        print('Draw')"
      ],
      "metadata": {
        "id": "BcY3GnDDIiR4"
      },
      "execution_count": 17,
      "outputs": []
    },
    {
      "cell_type": "markdown",
      "source": [
        "Consider the following:\n",
        "\n",
        "A string, , of length  where .\n",
        "An integer, , where  is a factor of .\n",
        "We can split  into  substrings where each subtring, , consists of a contiguous block of  characters in . Then, use each  to create string  such that:\n",
        "\n",
        "The characters in  are a subsequence of the characters in .\n",
        "Any repeat occurrence of a character is removed from the string such that each character in  occurs exactly once. In other words, if the character at some index  in  occurs at a previous index  in , then do not include the character in string .\n",
        "Given  and , print  lines where each line  denotes string .\n",
        "\n",
        "Example\n",
        "\n",
        "\n",
        "There are three substrings of length  to consider: 'AAA', 'BCA' and 'DDE'. The first substring is all 'A' characters, so . The second substring has all distinct characters, so . The third substring has  different characters, so . Note that a subsequence maintains the original order of characters encountered. The order of characters in each subsequence shown is important.\n",
        "\n",
        "Function Description\n",
        "\n",
        "Complete the merge_the_tools function in the editor below.\n",
        "\n",
        "merge_the_tools has the following parameters:\n",
        "\n",
        "string s: the string to analyze\n",
        "int k: the size of substrings to analyze\n",
        "Prints\n",
        "\n",
        "Print each subsequence on a new line. There will be  of them. No return value is expected.\n",
        "\n",
        "Input Format\n",
        "\n",
        "The first line contains a single string, .\n",
        "The second line contains an integer, , the length of each substring.\n",
        "\n",
        "Constraints\n",
        "\n",
        ", where  is the length of \n",
        "It is guaranteed that  is a multiple of .\n",
        "Sample Input\n",
        "\n",
        "STDIN       Function\n",
        "-----       --------\n",
        "AABCAAADA   s = 'AABCAAADA'\n",
        "3           k = 3\n",
        "Sample Output\n",
        "\n",
        "AB\n",
        "CA\n",
        "AD\n",
        "Explanation\n",
        "\n",
        "Split  into  equal parts of length . Convert each  to  by removing any subsequent occurrences of non-distinct characters in :\n",
        "\n",
        "Print each  on a new line.\n",
        "\n",
        "Language\n",
        "Python 3\n",
        "More\n",
        "1234\n",
        "def merge_the_tools(string, k):\n",
        "    # your code goes here\n",
        "\n",
        "if __name__ == '__main__':\n",
        "Line: 1 Col: 1\n",
        "\n",
        "Test against custom input\n",
        "BlogScoringEnvironmentFAQ"
      ],
      "metadata": {
        "id": "Lx6wQCghJFw-"
      }
    },
    {
      "cell_type": "code",
      "source": [
        "def merge_the_tools(string, k):\n",
        "    # your code goes here\n",
        "    temp = []\n",
        "    len_temp = 0\n",
        "    for item in string:\n",
        "        len_temp += 1\n",
        "        if item not in temp:\n",
        "            temp.append(item)\n",
        "        if len_temp == k:\n",
        "            print (''.join(temp))\n",
        "            temp = []\n",
        "            len_temp = 0\n",
        "if __name__ == '__main__':\n",
        "    string, k = input(), int(input())\n",
        "    merge_the_tools(string, k)"
      ],
      "metadata": {
        "colab": {
          "base_uri": "https://localhost:8080/"
        },
        "id": "MDPR_BMrJIFQ",
        "outputId": "f10bcba4-2361-4d6e-9f45-2db1cd35460c"
      },
      "execution_count": 19,
      "outputs": [
        {
          "output_type": "stream",
          "name": "stdout",
          "text": [
            "AABCAAADA\n",
            "3\n",
            "AB\n",
            "CA\n",
            "AD\n"
          ]
        }
      ]
    },
    {
      "cell_type": "code",
      "source": [],
      "metadata": {
        "id": "gGWtw2BMJPRB"
      },
      "execution_count": null,
      "outputs": []
    }
  ]
}